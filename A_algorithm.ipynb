{
  "nbformat": 4,
  "nbformat_minor": 0,
  "metadata": {
    "colab": {
      "provenance": [],
      "authorship_tag": "ABX9TyPR55e2Q9NCjRhcpzetOZtt",
      "include_colab_link": true
    },
    "kernelspec": {
      "name": "python3",
      "display_name": "Python 3"
    },
    "language_info": {
      "name": "python"
    }
  },
  "cells": [
    {
      "cell_type": "markdown",
      "metadata": {
        "id": "view-in-github",
        "colab_type": "text"
      },
      "source": [
        "<a href=\"https://colab.research.google.com/github/Akanksha-cell-max/Advanced-Artificial-Intelligence/blob/main/A_algorithm.ipynb\" target=\"_parent\"><img src=\"https://colab.research.google.com/assets/colab-badge.svg\" alt=\"Open In Colab\"/></a>"
      ]
    },
    {
      "cell_type": "code",
      "execution_count": null,
      "metadata": {
        "id": "xonw_d4gOGnZ"
      },
      "outputs": [],
      "source": [
        "import heapq\n",
        "\n",
        "# Heuristic function: Manhattan Distance\n",
        "def heuristic(a, b):\n",
        "    return abs(a[0] - b[0]) + abs(a[1] - b[1])\n",
        "\n",
        "# A* algorithm implementation\n",
        "def a_star(grid, start, goal):\n",
        "    # Open list (priority queue) and closed list\n",
        "    open_list = []\n",
        "    closed_list = set()\n",
        "\n",
        "    # G cost (distance from start) and F cost (G + heuristic)\n",
        "    g_costs = {start: 0}\n",
        "    f_costs = {start: heuristic(start, goal)}\n",
        "\n",
        "    # Parent node to reconstruct the path\n",
        "    came_from = {}\n",
        "\n",
        "    heapq.heappush(open_list, (f_costs[start], start))\n",
        "\n",
        "    while open_list:\n",
        "        # Current node is the one with the lowest F cost\n",
        "        _, current = heapq.heappop(open_list)\n",
        "\n",
        "        # If we reached the goal, reconstruct the path\n",
        "        if current == goal:\n",
        "            path = []\n",
        "            while current in came_from:\n",
        "                path.append(current)\n",
        "                current = came_from[current]\n",
        "            path.append(start)\n",
        "            return path[::-1]  # Return reversed path\n",
        "\n",
        "        closed_list.add(current)\n",
        "\n",
        "        # Check neighbors\n",
        "        neighbors = [(current[0] + 1, current[1]), (current[0] - 1, current[1]),\n",
        "                     (current[0], current[1] + 1), (current[0], current[1] - 1)]\n",
        "\n",
        "        for neighbor in neighbors:\n",
        "            if (0 <= neighbor[0] < len(grid)) and (0 <= neighbor[1] < len(grid[0])) and grid[neighbor[0]][neighbor[1]] == 0:\n",
        "                if neighbor in closed_list:\n",
        "                    continue\n",
        "\n",
        "                tentative_g = g_costs[current] + 1\n",
        "\n",
        "                if neighbor not in g_costs or tentative_g < g_costs[neighbor]:\n",
        "                    came_from[neighbor] = current\n",
        "                    g_costs[neighbor] = tentative_g\n",
        "                    f_costs[neighbor] = tentative_g + heuristic(neighbor, goal)\n",
        "                    if neighbor not in open_list:\n",
        "                        heapq.heappush(open_list, (f_costs[neighbor], neighbor))\n",
        "\n",
        "    return None  # No path found\n",
        "\n",
        "# Example usage\n",
        "grid = [\n",
        "    [0, 0, 0, 0, 0],\n",
        "    [0, 1, 1, 1, 0],\n",
        "    [0, 1, 0, 0, 0],\n",
        "    [0, 1, 1, 1, 0],\n",
        "    [0, 0, 0, 0, 0]\n",
        "]\n",
        "\n",
        "start = (0, 0)  # Start position\n",
        "goal = (4, 4)   # Goal position\n",
        "\n",
        "path = a_star(grid, start, goal)\n",
        "if path:\n",
        "    print(\"Path found:\", path)\n",
        "else:\n",
        "    print(\"No path found\")"
      ]
    }
  ]
}