{
  "nbformat": 4,
  "nbformat_minor": 0,
  "metadata": {
    "colab": {
      "provenance": [],
      "authorship_tag": "ABX9TyPFhe/qJ+CWE1WfhIpvqQkt",
      "include_colab_link": true
    },
    "kernelspec": {
      "name": "python3",
      "display_name": "Python 3"
    },
    "language_info": {
      "name": "python"
    }
  },
  "cells": [
    {
      "cell_type": "markdown",
      "metadata": {
        "id": "view-in-github",
        "colab_type": "text"
      },
      "source": [
        "<a href=\"https://colab.research.google.com/github/Akanksha-cell-max/Advanced-Artificial-Intelligence/blob/main/Practical_No_6.ipynb\" target=\"_parent\"><img src=\"https://colab.research.google.com/assets/colab-badge.svg\" alt=\"Open In Colab\"/></a>"
      ]
    },
    {
      "cell_type": "code",
      "execution_count": 2,
      "metadata": {
        "colab": {
          "base_uri": "https://localhost:8080/",
          "height": 487
        },
        "id": "KacUPxkT1IBP",
        "outputId": "a319c74b-1195-419a-d5b1-101843f6230d"
      },
      "outputs": [
        {
          "output_type": "stream",
          "name": "stdout",
          "text": [
            "\n",
            "Training complete!\n"
          ]
        },
        {
          "output_type": "display_data",
          "data": {
            "text/plain": [
              "<Figure size 640x480 with 1 Axes>"
            ],
            "image/png": "[encoded data removed]"
          },
          "metadata": {}
        }
      ],
      "source": [
        "import numpy as np\n",
        "import random\n",
        "import math\n",
        "import matplotlib.pyplot as plt\n",
        "\n",
        "# Arm parameters\n",
        "link_length = 1.0  # each arm segment length\n",
        "angle_increment = 15  # degrees to change per action\n",
        "\n",
        "# Discretize the angles\n",
        "angle_space = np.arange(0, 360, angle_increment)\n",
        "\n",
        "# Actions: (delta_theta1, delta_theta2)\n",
        "actions = [(-angle_increment, 0), (angle_increment, 0), (0, -angle_increment), (0, angle_increment)]\n",
        "\n",
        "# Target position\n",
        "target = np.array([1.0, 1.0])\n",
        "\n",
        "# Q-table (θ₁ x θ₂ x actions)\n",
        "q_table = np.zeros((len(angle_space), len(angle_space), len(actions)))\n",
        "\n",
        "# Hyperparameters\n",
        "alpha = 0.1\n",
        "gamma = 0.95\n",
        "epsilon = 0.3\n",
        "epsilon_decay = 0.995\n",
        "episodes = 1000\n",
        "\n",
        "# Helper functions\n",
        "def get_end_effector(theta1, theta2):\n",
        "    \"\"\"Calculate end effector position given two angles.\"\"\"\n",
        "    x = link_length * np.cos(np.radians(theta1)) + link_length * np.cos(np.radians(theta1 + theta2))\n",
        "    y = link_length * np.sin(np.radians(theta1)) + link_length * np.sin(np.radians(theta1 + theta2))\n",
        "    return np.array([x, y])\n",
        "\n",
        "def get_joint_positions(theta1, theta2):\n",
        "    \"\"\"Get positions of joints for plotting.\"\"\"\n",
        "    joint1 = np.array([link_length * np.cos(np.radians(theta1)),\n",
        "                       link_length * np.sin(np.radians(theta1))])\n",
        "    end_effector = joint1 + np.array([link_length * np.cos(np.radians(theta1 + theta2)),\n",
        "                                      link_length * np.sin(np.radians(theta1 + theta2))])\n",
        "    return np.array([[0, 0], joint1, end_effector])\n",
        "\n",
        "def get_distance(pos, target):\n",
        "    \"\"\"Euclidean distance.\"\"\"\n",
        "    return np.linalg.norm(pos - target)\n",
        "\n",
        "def discretize_angle(angle):\n",
        "    \"\"\"Find the closest discrete angle index.\"\"\"\n",
        "    return int(round(angle / angle_increment)) % len(angle_space)\n",
        "\n",
        "# Training loop\n",
        "for ep in range(episodes):\n",
        "    theta1 = random.choice(angle_space)\n",
        "    theta2 = random.choice(angle_space)\n",
        "    done = False\n",
        "    step = 0\n",
        "\n",
        "    while not done and step < 200:\n",
        "        # Epsilon-greedy policy\n",
        "        if random.uniform(0,1) < epsilon:\n",
        "            action_idx = random.randint(0, len(actions)-1)\n",
        "        else:\n",
        "            action_idx = np.argmax(q_table[discretize_angle(theta1)][discretize_angle(theta2)])\n",
        "\n",
        "        delta_theta1, delta_theta2 = actions[action_idx]\n",
        "\n",
        "        # Apply action\n",
        "        theta1 = (theta1 + delta_theta1) % 360\n",
        "        theta2 = (theta2 + delta_theta2) % 360\n",
        "\n",
        "        # Calculate reward\n",
        "        effector_pos = get_end_effector(theta1, theta2)\n",
        "        distance = get_distance(effector_pos, target)\n",
        "        reward = -distance\n",
        "\n",
        "        # Update Q-table\n",
        "        current_q = q_table[discretize_angle(theta1)][discretize_angle(theta2)][action_idx]\n",
        "        next_max_q = np.max(q_table[discretize_angle(theta1)][discretize_angle(theta2)])\n",
        "\n",
        "        q_table[discretize_angle(theta1)][discretize_angle(theta2)][action_idx] = \\\n",
        "            current_q + alpha * (reward + gamma * next_max_q - current_q)\n",
        "\n",
        "        if distance < 0.1:  # Close enough\n",
        "            done = True\n",
        "\n",
        "        step += 1\n",
        "\n",
        "    # Decay epsilon\n",
        "    epsilon *= epsilon_decay\n",
        "\n",
        "print(\"\\nTraining complete!\")\n",
        "\n",
        "# Test and visualize\n",
        "theta1, theta2 = 0, 0\n",
        "path = [(theta1, theta2)]\n",
        "\n",
        "fig, ax = plt.subplots()\n",
        "ax.set_xlim(-2.5, 2.5)\n",
        "ax.set_ylim(-2.5, 2.5)\n",
        "ax.set_aspect('equal')\n",
        "ax.plot(target[0], target[1], 'ro', label='Target')\n",
        "\n",
        "for _ in range(30):\n",
        "    action_idx = np.argmax(q_table[discretize_angle(theta1)][discretize_angle(theta2)])\n",
        "    delta_theta1, delta_theta2 = actions[action_idx]\n",
        "    theta1 = (theta1 + delta_theta1) % 360\n",
        "    theta2 = (theta2 + delta_theta2) % 360\n",
        "    path.append((theta1, theta2))\n",
        "    effector_pos = get_end_effector(theta1, theta2)\n",
        "\n",
        "    joints = get_joint_positions(theta1, theta2)\n",
        "    ax.plot([joints[0][0], joints[1][0]], [joints[0][1], joints[1][1]], 'b-')  # Link 1\n",
        "    ax.plot([joints[1][0], joints[2][0]], [joints[1][1], joints[2][1]], 'g-')  # Link 2\n",
        "    ax.plot(joints[2][0], joints[2][1], 'ko')  # End Effector\n",
        "\n",
        "    if get_distance(effector_pos, target) < 0.1:\n",
        "        break\n",
        "\n",
        "plt.title(\"Robot Arm Moving to Target\")\n",
        "plt.legend()\n",
        "plt.show()\n"
      ]
    }
  ]
}