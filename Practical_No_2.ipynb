{
  "nbformat": 4,
  "nbformat_minor": 0,
  "metadata": {
    "colab": {
      "provenance": [],
      "authorship_tag": "ABX9TyP8ngDqpRu1w6GFizqytc8W",
      "include_colab_link": true
    },
    "kernelspec": {
      "name": "python3",
      "display_name": "Python 3"
    },
    "language_info": {
      "name": "python"
    }
  },
  "cells": [
    {
      "cell_type": "markdown",
      "metadata": {
        "id": "view-in-github",
        "colab_type": "text"
      },
      "source": [
        "<a href=\"https://colab.research.google.com/github/Akanksha-cell-max/Advanced-Artificial-Intelligence/blob/main/Practical_No_2.ipynb\" target=\"_parent\"><img src=\"https://colab.research.google.com/assets/colab-badge.svg\" alt=\"Open In Colab\"/></a>"
      ]
    },
    {
      "cell_type": "code",
      "execution_count": 1,
      "metadata": {
        "colab": {
          "base_uri": "https://localhost:8080/"
        },
        "id": "RL3ocZuW2mi_",
        "outputId": "80144404-e295-43e5-a00c-33c3b9b85770"
      },
      "outputs": [
        {
          "output_type": "stream",
          "name": "stdout",
          "text": [
            "Generated Plan:\n",
            " - PickUpPackage\n",
            " - PlanPath\n",
            " - MoveAlongPath\n",
            " - RingBell\n",
            " - LeavePackage\n"
          ]
        }
      ],
      "source": [
        "class Planner:\n",
        "    def __init__(self):\n",
        "        # Define methods for each high-level task\n",
        "        self.methods = {\n",
        "            'DeliverPackage': self.deliver_package,\n",
        "            'Navigate': self.navigate,\n",
        "            'DeliverAtDoor': self.deliver_at_door\n",
        "        }\n",
        "\n",
        "        # Define primitive actions\n",
        "        self.primitive_actions = {\n",
        "            'PickUpPackage',\n",
        "            'PlanPath',\n",
        "            'MoveAlongPath',\n",
        "            'RingBell',\n",
        "            'LeavePackage'\n",
        "        }\n",
        "\n",
        "    def plan(self, tasks):\n",
        "        \"\"\"Recursively decompose tasks into primitive actions.\"\"\"\n",
        "        final_plan = []\n",
        "        for task in tasks:\n",
        "            if task in self.primitive_actions:\n",
        "                final_plan.append(task)\n",
        "            elif task in self.methods:\n",
        "                subtasks = self.methods[task]()\n",
        "                subplan = self.plan(subtasks)\n",
        "                final_plan.extend(subplan)\n",
        "            else:\n",
        "                raise Exception(f\"Unknown task: {task}\")\n",
        "        return final_plan\n",
        "\n",
        "    # High-level methods\n",
        "    def deliver_package(self):\n",
        "        return ['PickUpPackage', 'Navigate', 'DeliverAtDoor']\n",
        "\n",
        "    def navigate(self):\n",
        "        return ['PlanPath', 'MoveAlongPath']\n",
        "\n",
        "    def deliver_at_door(self):\n",
        "        return ['RingBell', 'LeavePackage']\n",
        "\n",
        "\n",
        "# Instantiate and plan\n",
        "planner = Planner()\n",
        "high_level_goal = ['DeliverPackage']\n",
        "plan = planner.plan(high_level_goal)\n",
        "\n",
        "# Print the resulting plan\n",
        "print(\"Generated Plan:\")\n",
        "for step in plan:\n",
        "    print(f\" - {step}\")\n"
      ]
    }
  ]
}