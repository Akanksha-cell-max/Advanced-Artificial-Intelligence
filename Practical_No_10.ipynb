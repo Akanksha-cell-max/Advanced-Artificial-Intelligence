{
  "nbformat": 4,
  "nbformat_minor": 0,
  "metadata": {
    "colab": {
      "provenance": [],
      "authorship_tag": "ABX9TyNgmtu1HK6hZ++/Qun7XDIo",
      "include_colab_link": true
    },
    "kernelspec": {
      "name": "python3",
      "display_name": "Python 3"
    },
    "language_info": {
      "name": "python"
    }
  },
  "cells": [
    {
      "cell_type": "markdown",
      "metadata": {
        "id": "view-in-github",
        "colab_type": "text"
      },
      "source": [
        "<a href=\"https://colab.research.google.com/github/Akanksha-cell-max/Advanced-Artificial-Intelligence/blob/main/Practical_No_10.ipynb\" target=\"_parent\"><img src=\"https://colab.research.google.com/assets/colab-badge.svg\" alt=\"Open In Colab\"/></a>"
      ]
    },
    {
      "cell_type": "code",
      "execution_count": 1,
      "metadata": {
        "colab": {
          "base_uri": "https://localhost:8080/"
        },
        "id": "Li08PyEIB_3-",
        "outputId": "5196c2c2-a722-4c7e-a5f3-b447f08736d8"
      },
      "outputs": [
        {
          "output_type": "stream",
          "name": "stdout",
          "text": [
            "=== Simple Medical Expert System ===\n",
            "Enter your symptoms (type 'done' when finished):\n",
            "Symptom: fever\n",
            "Symptom: cough\n",
            "Symptom: flu\n",
            "Symptom: done\n",
            "\n",
            "Possible Diagnoses:\n",
            " - Flu (matched 2 symptoms)\n",
            " - Covid-19 (matched 2 symptoms)\n"
          ]
        }
      ],
      "source": [
        "# Expert System for Medical Diagnosis\n",
        "\n",
        "# Rule base\n",
        "rules = {\n",
        "    \"flu\": [\"fever\", \"cough\", \"body ache\", \"fatigue\"],\n",
        "    \"covid-19\": [\"fever\", \"cough\", \"loss of taste\", \"shortness of breath\"],\n",
        "    \"allergy\": [\"sneezing\", \"runny nose\", \"itchy eyes\"]\n",
        "}\n",
        "\n",
        "# Function to get user symptoms\n",
        "def get_user_symptoms():\n",
        "    print(\"Enter your symptoms (type 'done' when finished):\")\n",
        "    symptoms = []\n",
        "    while True:\n",
        "        symptom = input(\"Symptom: \").lower()\n",
        "        if symptom == 'done':\n",
        "            break\n",
        "        symptoms.append(symptom)\n",
        "    return symptoms\n",
        "\n",
        "# Inference engine\n",
        "def diagnose(symptoms):\n",
        "    diagnosis = []\n",
        "    for disease, disease_symptoms in rules.items():\n",
        "        match_count = sum([1 for s in symptoms if s in disease_symptoms])\n",
        "        if match_count >= len(disease_symptoms) / 2:  # At least 50% symptoms match\n",
        "            diagnosis.append((disease, match_count))\n",
        "\n",
        "    if diagnosis:\n",
        "        # Sort by number of matching symptoms\n",
        "        diagnosis.sort(key=lambda x: x[1], reverse=True)\n",
        "        print(\"\\nPossible Diagnoses:\")\n",
        "        for d, count in diagnosis:\n",
        "            print(f\" - {d.title()} (matched {count} symptom{'s' if count > 1 else ''})\")\n",
        "    else:\n",
        "        print(\"\\nNo diagnosis found based on entered symptoms.\")\n",
        "\n",
        "# Main program\n",
        "if __name__ == \"__main__\":\n",
        "    print(\"=== Simple Medical Expert System ===\")\n",
        "    user_symptoms = get_user_symptoms()\n",
        "    diagnose(user_symptoms)\n"
      ]
    }
  ]
}