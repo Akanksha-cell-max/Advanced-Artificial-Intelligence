{
  "nbformat": 4,
  "nbformat_minor": 0,
  "metadata": {
    "colab": {
      "provenance": [],
      "authorship_tag": "ABX9TyOkqfED/5d10wEBXl2duRit",
      "include_colab_link": true
    },
    "kernelspec": {
      "name": "python3",
      "display_name": "Python 3"
    },
    "language_info": {
      "name": "python"
    }
  },
  "cells": [
    {
      "cell_type": "markdown",
      "metadata": {
        "id": "view-in-github",
        "colab_type": "text"
      },
      "source": [
        "<a href=\"https://colab.research.google.com/github/Akanksha-cell-max/Advanced-Artificial-Intelligence/blob/main/DFS.ipynb\" target=\"_parent\"><img src=\"https://colab.research.google.com/assets/colab-badge.svg\" alt=\"Open In Colab\"/></a>"
      ]
    },
    {
      "cell_type": "code",
      "execution_count": null,
      "metadata": {
        "id": "mAczYFbNMVbL"
      },
      "outputs": [],
      "source": [
        "# DFS algorithm for solving the planning problem\n",
        "def dfs(planning_problem, current_state, path, visited):\n",
        "    # If we have reached the goal, return the path\n",
        "    if planning_problem.is_goal(current_state):\n",
        "        return path\n",
        "\n",
        "    # If this state has already been visited, skip it\n",
        "    if current_state in visited:\n",
        "        return None\n",
        "\n",
        "    visited.add(current_state)\n",
        "\n",
        "    # Explore neighbors (possible actions)\n",
        "    for neighbor in planning_problem.get_neighbors(current_state):\n",
        "        result = dfs(planning_problem, neighbor, path + [neighbor], visited)\n",
        "        if result:\n",
        "            return result\n",
        "\n",
        "    return None  # No solution found\n",
        "\n",
        "# Example usage:\n",
        "visited = set()\n",
        "dfs_solution = dfs(planning_problem, initial_state, [initial_state], visited)\n",
        "\n",
        "if dfs_solution:\n",
        "    print(f\"DFS Solution Path: {dfs_solution}\")\n",
        "else:\n",
        "    print(\"No solution found using DFS.\")\n"
      ]
    },
    {
      "cell_type": "code",
      "source": [
        "from collections import deque\n",
        "\n",
        "def bfs(graph, start, goal):\n",
        "    \"\"\"\n",
        "    Perform BFS to find the shortest path from start to goal in an unweighted graph.\n",
        "\n",
        "    :param graph: The graph as an adjacency list (dict).\n",
        "    :param start: The starting node.\n",
        "    :param goal: The goal node.\n",
        "    :return: A list representing the shortest path from start to goal, or None if no path exists.\n",
        "    \"\"\"\n",
        "    # Queue for BFS (FIFO)\n",
        "    queue = deque([[start]])  # Initialize the queue with the starting node\n",
        "    visited = set()  # Set to keep track of visited nodes\n",
        "\n",
        "    # Mark the start node as visited\n",
        "    visited.add(start)\n",
        "\n",
        "    # BFS loop\n",
        "    while queue:\n",
        "        path = queue.popleft()  # Dequeue a path (list of nodes)\n",
        "\n",
        "        # Get the last node in the current path\n",
        "        node = path[-1]\n",
        "\n",
        "        # Check if we've reached the goal\n",
        "        if node == goal:\n",
        "            return path  # Return the path from start to goal\n",
        "\n",
        "        # Explore neighbors (successors) of the current node\n",
        "        for neighbor in graph[node]:\n",
        "            if neighbor not in visited:\n",
        "                visited.add(neighbor)\n",
        "                # Enqueue the path extended with the neighbor\n",
        "                queue.append(path + [neighbor])\n",
        "\n",
        "    return None  # No path found\n",
        "\n",
        "# Example graph as an adjacency list\n",
        "graph = {\n",
        "    'A': ['B', 'C'],\n",
        "    'B': ['A', 'D', 'E'],\n",
        "    'C': ['A', 'F'],\n",
        "    'D': ['B'],\n",
        "    'E': ['B', 'F'],\n",
        "    'F': ['C', 'E']\n",
        "}\n",
        "\n",
        "# Example usage\n",
        "start_node = 'A'\n",
        "goal_node = 'F'\n",
        "\n",
        "path = bfs(graph, start_node, goal_node)\n",
        "if path:\n",
        "    print(f\"Path from {start_node} to {goal_node}: {path}\")\n",
        "else:\n",
        "    print(f\"No path found from {start_node} to {goal_node}\")\n"
      ],
      "metadata": {
        "id": "lgyiTD7yMteS"
      },
      "execution_count": null,
      "outputs": []
    }
  ]
}