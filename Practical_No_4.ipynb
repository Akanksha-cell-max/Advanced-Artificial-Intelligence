{
  "nbformat": 4,
  "nbformat_minor": 0,
  "metadata": {
    "colab": {
      "provenance": [],
      "authorship_tag": "ABX9TyNnCD+sgHic413DtRp20/8j",
      "include_colab_link": true
    },
    "kernelspec": {
      "name": "python3",
      "display_name": "Python 3"
    },
    "language_info": {
      "name": "python"
    }
  },
  "cells": [
    {
      "cell_type": "markdown",
      "metadata": {
        "id": "view-in-github",
        "colab_type": "text"
      },
      "source": [
        "<a href=\"https://colab.research.google.com/github/Akanksha-cell-max/Advanced-Artificial-Intelligence/blob/main/Practical_No_4.ipynb\" target=\"_parent\"><img src=\"https://colab.research.google.com/assets/colab-badge.svg\" alt=\"Open In Colab\"/></a>"
      ]
    },
    {
      "cell_type": "code",
      "execution_count": 1,
      "metadata": {
        "colab": {
          "base_uri": "https://localhost:8080/"
        },
        "id": "tWVlakzv0SiA",
        "outputId": "c38c8266-3b24-44c4-95b0-05abb5c3d261"
      },
      "outputs": [
        {
          "output_type": "stream",
          "name": "stdout",
          "text": [
            "Learned Rules:\n",
            "grandparent(X, Z) :- parent(X, Y), parent(Y, Z).\n",
            "grandparent(X, Z) :- parent(X, Y), parent(Y, Z).\n",
            "grandparent(X, Z) :- parent(X, Y), parent(Y, Z).\n",
            "grandparent(X, Z) :- parent(X, Y), parent(Y, Z).\n"
          ]
        }
      ],
      "source": [
        "class Fact:\n",
        "    def __init__(self, predicate, args):\n",
        "        self.predicate = predicate\n",
        "        self.args = args\n",
        "\n",
        "    def __repr__(self):\n",
        "        return f\"{self.predicate}({', '.join(self.args)})\"\n",
        "\n",
        "class ILPSystem:\n",
        "    def __init__(self, background, positives, negatives):\n",
        "        self.background = background\n",
        "        self.positives = positives\n",
        "        self.negatives = negatives\n",
        "\n",
        "    def find_rules(self):\n",
        "        candidate_rules = []\n",
        "\n",
        "        # We will try to learn rules based on two background facts\n",
        "        for fact1 in self.background:\n",
        "            for fact2 in self.background:\n",
        "                if fact1 != fact2:\n",
        "                    # Try to form a chain\n",
        "                    for var in fact1.args:\n",
        "                        if var in fact2.args:\n",
        "                            # Build a candidate rule\n",
        "                            rule = (fact1, fact2)\n",
        "                            if self.rule_covers_positives(rule) and not self.rule_covers_negatives(rule):\n",
        "                                candidate_rules.append(rule)\n",
        "        return candidate_rules\n",
        "\n",
        "    def rule_covers_positives(self, rule):\n",
        "        fact1, fact2 = rule\n",
        "        for pos in self.positives:\n",
        "            if not self.infer(pos, fact1, fact2):\n",
        "                return False\n",
        "        return True\n",
        "\n",
        "    def rule_covers_negatives(self, rule):\n",
        "        fact1, fact2 = rule\n",
        "        for neg in self.negatives:\n",
        "            if self.infer(neg, fact1, fact2):\n",
        "                return True\n",
        "        return False\n",
        "\n",
        "    def infer(self, target, fact1, fact2):\n",
        "        # Very simple inference: look for matching patterns\n",
        "        for f1 in self.background:\n",
        "            if f1.predicate == fact1.predicate:\n",
        "                for f2 in self.background:\n",
        "                    if f2.predicate == fact2.predicate:\n",
        "                        # try to link them\n",
        "                        if f1.args[1] == f2.args[0]:\n",
        "                            if f1.args[0] == target.args[0] and f2.args[1] == target.args[1]:\n",
        "                                return True\n",
        "        return False\n",
        "\n",
        "# Sample background knowledge\n",
        "background = [\n",
        "    Fact('parent', ['john', 'mary']),\n",
        "    Fact('parent', ['mary', 'susan']),\n",
        "    Fact('parent', ['bob', 'alice']),\n",
        "    Fact('parent', ['alice', 'tom'])\n",
        "]\n",
        "\n",
        "# Positive examples\n",
        "positives = [\n",
        "    Fact('grandparent', ['john', 'susan']),\n",
        "    Fact('grandparent', ['bob', 'tom'])\n",
        "]\n",
        "\n",
        "# Negative examples\n",
        "negatives = [\n",
        "    Fact('grandparent', ['john', 'tom']),\n",
        "    Fact('grandparent', ['bob', 'susan'])\n",
        "]\n",
        "\n",
        "# Run ILP\n",
        "ilp = ILPSystem(background, positives, negatives)\n",
        "learned_rules = ilp.find_rules()\n",
        "\n",
        "# Display learned rules\n",
        "print(\"Learned Rules:\")\n",
        "for fact1, fact2 in learned_rules:\n",
        "    print(f\"{positives[0].predicate}(X, Z) :- {fact1.predicate}(X, Y), {fact2.predicate}(Y, Z).\")\n"
      ]
    }
  ]
}