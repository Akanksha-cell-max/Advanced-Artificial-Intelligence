{
  "nbformat": 4,
  "nbformat_minor": 0,
  "metadata": {
    "colab": {
      "provenance": [],
      "authorship_tag": "ABX9TyMsxjFwNRrNJ+g/mFcAnJSW",
      "include_colab_link": true
    },
    "kernelspec": {
      "name": "python3",
      "display_name": "Python 3"
    },
    "language_info": {
      "name": "python"
    }
  },
  "cells": [
    {
      "cell_type": "markdown",
      "metadata": {
        "id": "view-in-github",
        "colab_type": "text"
      },
      "source": [
        "<a href=\"https://colab.research.google.com/github/Akanksha-cell-max/Advanced-Artificial-Intelligence/blob/main/logic_learning.ipynb\" target=\"_parent\"><img src=\"https://colab.research.google.com/assets/colab-badge.svg\" alt=\"Open In Colab\"/></a>"
      ]
    },
    {
      "cell_type": "code",
      "execution_count": 1,
      "metadata": {
        "colab": {
          "base_uri": "https://localhost:8080/"
        },
        "id": "sHwyBY-zNhIv",
        "outputId": "ca567fa7-f922-4fbf-da84-67235b5bc666"
      },
      "outputs": [
        {
          "output_type": "stream",
          "name": "stdout",
          "text": [
            "Learned facts: {4, 12, 15}\n"
          ]
        }
      ],
      "source": [
        "class LogicLearningSystem:\n",
        "    def __init__(self):  # Fixed the constructor method\n",
        "        self.rules = []\n",
        "        self.examples = []\n",
        "\n",
        "    def add_rule(self, rule):\n",
        "        \"\"\"Add a logical rule to the system.\"\"\"\n",
        "        self.rules.append(rule)\n",
        "\n",
        "    def add_example(self, example):\n",
        "        \"\"\"Add an example to be evaluated against the rules.\"\"\"\n",
        "        self.examples.append(example)\n",
        "\n",
        "    def learn(self):\n",
        "        \"\"\"Apply rules to examples and return the learned facts.\"\"\"\n",
        "        learned_facts = set()\n",
        "        for example in self.examples:\n",
        "            for rule in self.rules:\n",
        "                if rule(example):\n",
        "                    learned_facts.add(example)\n",
        "        return learned_facts\n",
        "\n",
        "# Example Usage\n",
        "system = LogicLearningSystem()\n",
        "\n",
        "# Add rules\n",
        "system.add_rule(lambda x: x % 2 == 0)  # Even numbers\n",
        "system.add_rule(lambda x: x > 10)      # Numbers greater than 10\n",
        "\n",
        "# Add examples\n",
        "system.add_example(4)\n",
        "system.add_example(15)\n",
        "system.add_example(7)\n",
        "system.add_example(12)\n",
        "\n",
        "# Learn new facts\n",
        "learned = system.learn()\n",
        "print(\"Learned facts:\", learned)\n"
      ]
    }
  ]
}