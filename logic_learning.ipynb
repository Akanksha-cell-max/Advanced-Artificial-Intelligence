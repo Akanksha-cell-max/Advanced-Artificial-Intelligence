{
  "nbformat": 4,
  "nbformat_minor": 0,
  "metadata": {
    "colab": {
      "provenance": [],
      "authorship_tag": "ABX9TyOH+4kGZBM7wQyf8IpSCMDb",
      "include_colab_link": true
    },
    "kernelspec": {
      "name": "python3",
      "display_name": "Python 3"
    },
    "language_info": {
      "name": "python"
    }
  },
  "cells": [
    {
      "cell_type": "markdown",
      "metadata": {
        "id": "view-in-github",
        "colab_type": "text"
      },
      "source": [
        "<a href=\"https://colab.research.google.com/github/Akanksha-cell-max/Advanced-Artificial-Intelligence/blob/main/logic_learning.ipynb\" target=\"_parent\"><img src=\"https://colab.research.google.com/assets/colab-badge.svg\" alt=\"Open In Colab\"/></a>"
      ]
    },
    {
      "cell_type": "code",
      "execution_count": 1,
      "metadata": {
        "colab": {
          "base_uri": "https://localhost:8080/"
        },
        "id": "tvqOQQutIKce",
        "outputId": "ab0912ad-2ec9-468e-9bc8-ce20e1d53dca"
      },
      "outputs": [
        {
          "output_type": "stream",
          "name": "stdout",
          "text": [
            "Inferred Knowledge: {B, C}\n"
          ]
        }
      ],
      "source": [
        "from sympy import symbols, Implies, And, Or, Not, simplify_logic\n",
        "\n",
        "class LogicLearningSystem:\n",
        "    def __init__(self):\n",
        "        self.rules = []\n",
        "        self.examples = []\n",
        "\n",
        "    def add_rule(self, rule):\n",
        "        \"\"\"Adds a logical rule to the system.\"\"\"\n",
        "        self.rules.append(rule)\n",
        "\n",
        "    def add_example(self, example):\n",
        "        \"\"\"Adds an example to the system.\"\"\"\n",
        "        self.examples.append(example)\n",
        "\n",
        "    def infer(self):\n",
        "        \"\"\"Attempts to infer new knowledge from rules and examples.\"\"\"\n",
        "        inferred_knowledge = set()\n",
        "\n",
        "        for rule in self.rules:\n",
        "            for example in self.examples:\n",
        "                # Check if the rule is an implication and if the example matches the condition\n",
        "                if isinstance(rule, Implies) and example == rule.args[0]:\n",
        "                    inferred_knowledge.add(rule.args[1])  # Add the consequent (result of implication)\n",
        "\n",
        "        return inferred_knowledge\n",
        "\n",
        "# Define symbols\n",
        "A, B, C = symbols('A B C')\n",
        "\n",
        "# Initialize the logic learning system\n",
        "system = LogicLearningSystem()\n",
        "\n",
        "# Add rules\n",
        "system.add_rule(Implies(A, B))  # If A is true, then B is true\n",
        "system.add_rule(Implies(B, C))  # If B is true, then C is true\n",
        "# Add examples\n",
        "system.add_example(A)\n",
        "  # Given that A is true\n",
        "system.add_example(B)  # Given that B is true\n",
        "# Infer new knowledge\n",
        "inferred = system.infer()\n",
        "print(\"Inferred Knowledge:\", inferred)"
      ]
    }
  ]
}